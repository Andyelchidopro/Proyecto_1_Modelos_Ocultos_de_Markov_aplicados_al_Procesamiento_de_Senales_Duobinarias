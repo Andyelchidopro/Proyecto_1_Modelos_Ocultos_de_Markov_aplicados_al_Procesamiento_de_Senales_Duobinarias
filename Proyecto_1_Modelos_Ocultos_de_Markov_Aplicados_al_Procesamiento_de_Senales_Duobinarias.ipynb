{
  "nbformat": 4,
  "nbformat_minor": 0,
  "metadata": {
    "colab": {
      "provenance": []
    },
    "kernelspec": {
      "name": "python3",
      "display_name": "Python 3"
    },
    "language_info": {
      "name": "python"
    }
  },
  "cells": [
    {
      "cell_type": "code",
      "source": [
        "# Nombre: Andrés Degollado Muñoz\n",
        "# Número de cuenta; 318036159\n",
        "# Modelos Ocultos de Markov Aplicados al procesamiento de señales duobinarias.\n",
        "# Proyecto 1.\n",
        "\n",
        "# Esta función proporciona la secuencia binaria de la señal binaria \\{x_{k}\\}, haciendo uso del algoritmo de Viterbi.\n",
        "def senal_binaria(senal_duobinaria, prob_11, prob_10, prob_01, prob_00, prob_1, prob_0,\n",
        "                  prob_1n2, prob_1n0, prob_1p2, prob_2n2, prob_2n0, prob_2p2):\n",
        "\n",
        "    # Se declaran un par de listas, con el fin de almacenar las probabilidades y la secuencia de la señal binaria \\{x_{k}\\}.\n",
        "    probabilidades = []\n",
        "    vector_de_estados_senal_binaria = []\n",
        "\n",
        "    # Se aplica la regla de decodificación única y exclusivamente para el primer dígito de la señal duobinaria.\n",
        "    if senal_duobinaria[0]==0:\n",
        "      vector_de_estados_senal_binaria.append(1)\n",
        "    else:\n",
        "      vector_de_estados_senal_binaria.append(0)\n",
        "\n",
        "    # En esta parte, se calculan las probabilidades del segundo estado del proceso oculto, con base en los tres estados\n",
        "    # que puede tener una señal duobinaria a partir de su segundo estado.\n",
        "    if senal_duobinaria[1] == -2:\n",
        "        probabilidades.append((prob_0 * prob_1n2, prob_1 * prob_2n2))\n",
        "    elif senal_duobinaria[1] == 0:\n",
        "        probabilidades.append((prob_0 * prob_1n0, prob_1 * prob_2n0))\n",
        "    else:\n",
        "        probabilidades.append((prob_0 * prob_1p2, prob_1 * prob_2p2))\n",
        "\n",
        "    # Se aplica propiamente el algoritmo de Viterbi.\n",
        "    for i in range(1, len(senal_duobinaria)-1):\n",
        "        # Comienza desde la última tupla.\n",
        "        previo_1, previo_0 = probabilidades[-1]\n",
        "        # Si el dígito de la señal duobinaria en la posición i es -2, entonces se definen las probabilidades de que el estado actual sea uno\n",
        "        # o cero, para dicha posición. De manera análoga, se hacen para los otros posibles dígitos de la señal duobinaria.\n",
        "        if senal_duobinaria[i] == -2:\n",
        "            actual_1 = max(previo_1 * prob_11 * prob_1n2, previo_0 * prob_01 * prob_1n2)\n",
        "            actual_0 = max(previo_1 * prob_10 * prob_2n2, previo_0 * prob_00 * prob_2n2)\n",
        "            probabilidades.append((actual_1, actual_0))\n",
        "        elif senal_duobinaria[i] == 0:\n",
        "            actual_1 = max(previo_1 * prob_11 * prob_1n0, previo_0 * prob_01 * prob_1n0)\n",
        "            actual_0 = max(previo_1 * prob_10 * prob_2n0, previo_0 * prob_00 * prob_2n0)\n",
        "            probabilidades.append((actual_1, actual_0))\n",
        "        else:\n",
        "            actual_1 = max(previo_1 * prob_11 * prob_1p2, previo_0 * prob_01 * prob_1p2)\n",
        "            actual_0 = max(previo_1 * prob_10 * prob_2p2, previo_0 * prob_00 * prob_2p2)\n",
        "            probabilidades.append((actual_1, actual_0))\n",
        "\n",
        "    # Se define el camino, seleccionando la probabilidad más alta y agregando\n",
        "    # el estado a la lista del vector de estados de la señal binaria.\n",
        "    for p in probabilidades:\n",
        "        if p[0] > p[1]:\n",
        "            vector_de_estados_senal_binaria.append(0)\n",
        "        else:\n",
        "            vector_de_estados_senal_binaria.append(1)\n",
        "\n",
        "    return probabilidades, vector_de_estados_senal_binaria\n",
        "\n",
        "# Se definen las probabilidades de transición del modelo oculto de Markov.\n",
        "prob_11 = 0.2\n",
        "prob_10 = 0.8\n",
        "prob_01 = 0.9\n",
        "prob_00 = 0.1\n",
        "\n",
        "# Se definen los valores de las entradas de la distribución de probabilidad inicial.\n",
        "prob_0 = 1/3\n",
        "prob_1 = 2/3\n",
        "\n",
        "# Se definen las probabilidades de emisión.\n",
        "prob_1n2 = 1/3\n",
        "prob_1n0 = 1/3\n",
        "prob_1p2 = 1/3\n",
        "\n",
        "prob_2n2 = 1/3\n",
        "prob_2n0 = 1/3\n",
        "prob_2p2 = 1/3\n",
        "\n",
        "# Se definen la señal duobinaria \\{y_k\\}.\n",
        "senal_duobinaria = [-1, 0, 2, 0, 0]\n",
        "\n",
        "# Se hace la llamada a la función.\n",
        "resultado = senal_binaria(senal_duobinaria, prob_11, prob_10, prob_01, prob_00, prob_1, prob_0,\n",
        "                          prob_1n2, prob_1n0, prob_1p2, prob_2n2, prob_2n0, prob_2p2)\n",
        "\n",
        "# Se imprimen los resultados.\n",
        "print(\"Probabilidades:\", resultado[0])\n",
        "print(\"Señal binaria predicha:\", resultado[1])\n"
      ],
      "metadata": {
        "colab": {
          "base_uri": "https://localhost:8080/"
        },
        "id": "e7Wd2GJ87MR0",
        "outputId": "866400fd-6aad-48a9-ef0d-ddeb4631c849"
      },
      "execution_count": 1,
      "outputs": [
        {
          "output_type": "stream",
          "name": "stdout",
          "text": [
            "Probabilidades: [(0.1111111111111111, 0.2222222222222222), (0.06666666666666665, 0.02962962962962963), (0.008888888888888889, 0.017777777777777774), (0.005333333333333332, 0.0023703703703703703)]\n",
            "Señal binaria predicha: [0, 1, 0, 1, 0]\n"
          ]
        }
      ]
    }
  ]
}